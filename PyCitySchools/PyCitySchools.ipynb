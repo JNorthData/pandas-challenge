{
 "cells": [
  {
   "cell_type": "code",
   "execution_count": 2,
   "id": "e279c104",
   "metadata": {},
   "outputs": [
    {
     "ename": "NameError",
     "evalue": "name 'PyCitySchools' is not defined",
     "output_type": "error",
     "traceback": [
      "\u001b[0;31m---------------------------------------------------------------------------\u001b[0m",
      "\u001b[0;31mNameError\u001b[0m                                 Traceback (most recent call last)",
      "Cell \u001b[0;32mIn[2], line 6\u001b[0m\n\u001b[1;32m      3\u001b[0m \u001b[39mfrom\u001b[39;00m \u001b[39mpathlib\u001b[39;00m \u001b[39mimport\u001b[39;00m Path\n\u001b[1;32m      5\u001b[0m \u001b[39m# Load files\u001b[39;00m\n\u001b[0;32m----> 6\u001b[0m school_data_load \u001b[39m=\u001b[39m Path(PyCitySchools\u001b[39m/\u001b[39mResources\u001b[39m/\u001b[39mschools_complete\u001b[39m.\u001b[39mcsv)\n\u001b[1;32m      7\u001b[0m student_data_load \u001b[39m=\u001b[39m Path(Resources\u001b[39m/\u001b[39mstudents_complete\u001b[39m.\u001b[39mcsv)\n\u001b[1;32m      9\u001b[0m \u001b[39mprint\u001b[39m(school_data_load)\n",
      "\u001b[0;31mNameError\u001b[0m: name 'PyCitySchools' is not defined"
     ]
    }
   ],
   "source": [
    "# Dependencies\n",
    "import pandas as pd\n",
    "from pathlib import Path\n",
    "\n",
    "# Load files\n",
    "school_data_load = Path(Resources/schools_complete.csv)\n",
    "student_data_load = Path(Resources/students_complete.csv)\n",
    "\n",
    "print(school_data_load)"
   ]
  },
  {
   "cell_type": "code",
   "execution_count": null,
   "id": "2d7ed241",
   "metadata": {},
   "outputs": [],
   "source": []
  }
 ],
 "metadata": {
  "kernelspec": {
   "display_name": "Python 3 (ipykernel)",
   "language": "python",
   "name": "python3"
  },
  "language_info": {
   "codemirror_mode": {
    "name": "ipython",
    "version": 3
   },
   "file_extension": ".py",
   "mimetype": "text/x-python",
   "name": "python",
   "nbconvert_exporter": "python",
   "pygments_lexer": "ipython3",
   "version": "3.9.6"
  }
 },
 "nbformat": 4,
 "nbformat_minor": 5
}
